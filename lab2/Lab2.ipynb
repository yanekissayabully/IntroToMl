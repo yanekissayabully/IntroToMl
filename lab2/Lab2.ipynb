{
 "cells": [
  {
   "cell_type": "code",
   "execution_count": 5,
   "id": "67afe20e",
   "metadata": {},
   "outputs": [],
   "source": [
    "import pandas as pd \n",
    "import matplotlib.pyplot as plt\n",
    "\n",
    "from sklearn.preprocessing import OneHotEncoder \n",
    "\n",
    "df_bike = pd.read_csv(\"Bike.csv\")\n",
    "\n",
    "df_bike.rename(columns={'cnt':'cnt_rental_bike'}, inplace=True)"
   ]
  },
  {
   "cell_type": "code",
   "execution_count": 10,
   "id": "c4a88dde",
   "metadata": {},
   "outputs": [
    {
     "name": "stdout",
     "output_type": "stream",
     "text": [
      "   instant      dteday  season  yr  mnth  hr  holiday  weekday  workingday  \\\n",
      "0        1  2011-01-01       1   0     1   0        0        6           0   \n",
      "1        2  2011-01-01       1   0     1   1        0        6           0   \n",
      "2        3  2011-01-01       1   0     1   2        0        6           0   \n",
      "3        4  2011-01-01       1   0     1   3        0        6           0   \n",
      "4        5  2011-01-01       1   0     1   4        0        6           0   \n",
      "\n",
      "   weathersit  temp   atemp   hum  windspeed  casual  registered  \\\n",
      "0           1  0.24  0.2879  0.81        0.0       3          13   \n",
      "1           1  0.22  0.2727  0.80        0.0       8          32   \n",
      "2           1  0.22  0.2727  0.80        0.0       5          27   \n",
      "3           1  0.24  0.2879  0.75        0.0       3          10   \n",
      "4           1  0.24  0.2879  0.75        0.0       0           1   \n",
      "\n",
      "   cnt_rental_bike  \n",
      "0               16  \n",
      "1               40  \n",
      "2               32  \n",
      "3               13  \n",
      "4                1  \n",
      "(17379, 17)\n",
      "instant              int64\n",
      "dteday              object\n",
      "season               int64\n",
      "yr                   int64\n",
      "mnth                 int64\n",
      "hr                   int64\n",
      "holiday              int64\n",
      "weekday              int64\n",
      "workingday           int64\n",
      "weathersit           int64\n",
      "temp               float64\n",
      "atemp              float64\n",
      "hum                float64\n",
      "windspeed          float64\n",
      "casual               int64\n",
      "registered           int64\n",
      "cnt_rental_bike      int64\n",
      "dtype: object\n"
     ]
    }
   ],
   "source": [
    "print(df_bike.head())\n",
    "print(df_bike.shape)\n",
    "print(df_bike.dtypes)"
   ]
  },
  {
   "cell_type": "code",
   "execution_count": 11,
   "id": "01e12d92",
   "metadata": {},
   "outputs": [
    {
     "name": "stdout",
     "output_type": "stream",
     "text": [
      "instant            0\n",
      "dteday             0\n",
      "season             0\n",
      "yr                 0\n",
      "mnth               0\n",
      "hr                 0\n",
      "holiday            0\n",
      "weekday            0\n",
      "workingday         0\n",
      "weathersit         0\n",
      "temp               0\n",
      "atemp              0\n",
      "hum                0\n",
      "windspeed          0\n",
      "casual             0\n",
      "registered         0\n",
      "cnt_rental_bike    0\n",
      "dtype: int64\n"
     ]
    }
   ],
   "source": [
    "print(df_bike.isnull().sum())"
   ]
  },
  {
   "cell_type": "code",
   "execution_count": 12,
   "id": "09ab9c59",
   "metadata": {},
   "outputs": [
    {
     "name": "stdout",
     "output_type": "stream",
     "text": [
      "0\n"
     ]
    }
   ],
   "source": [
    "print(df_bike.duplicated().sum())"
   ]
  },
  {
   "cell_type": "code",
   "execution_count": 13,
   "id": "77689f6c",
   "metadata": {},
   "outputs": [
    {
     "name": "stdout",
     "output_type": "stream",
     "text": [
      "       dteday  hr            datetime\n",
      "0  2011-01-01   0 2011-01-01 00:00:00\n",
      "1  2011-01-01   1 2011-01-01 01:00:00\n",
      "2  2011-01-01   2 2011-01-01 02:00:00\n",
      "3  2011-01-01   3 2011-01-01 03:00:00\n",
      "4  2011-01-01   4 2011-01-01 04:00:00\n",
      "datetime64[ns]\n"
     ]
    }
   ],
   "source": [
    "df_bike['datetime'] = pd.to_datetime(df_bike['dteday']) + pd.to_timedelta(df_bike['hr'], unit='h')\n",
    "print(df_bike[['dteday', 'hr','datetime']].head())\n",
    "print(df_bike.dtypes['datetime'])"
   ]
  },
  {
   "cell_type": "code",
   "execution_count": 14,
   "id": "d58c7252",
   "metadata": {},
   "outputs": [
    {
     "name": "stdout",
     "output_type": "stream",
     "text": [
      "          instant        season            yr          mnth            hr  \\\n",
      "count  17379.0000  17379.000000  17379.000000  17379.000000  17379.000000   \n",
      "mean    8690.0000      2.501640      0.502561      6.537775     11.546752   \n",
      "min        1.0000      1.000000      0.000000      1.000000      0.000000   \n",
      "25%     4345.5000      2.000000      0.000000      4.000000      6.000000   \n",
      "50%     8690.0000      3.000000      1.000000      7.000000     12.000000   \n",
      "75%    13034.5000      3.000000      1.000000     10.000000     18.000000   \n",
      "max    17379.0000      4.000000      1.000000     12.000000     23.000000   \n",
      "std     5017.0295      1.106918      0.500008      3.438776      6.914405   \n",
      "\n",
      "            holiday       weekday    workingday    weathersit          temp  \\\n",
      "count  17379.000000  17379.000000  17379.000000  17379.000000  17379.000000   \n",
      "mean       0.028770      3.003683      0.682721      1.425283      0.496987   \n",
      "min        0.000000      0.000000      0.000000      1.000000      0.020000   \n",
      "25%        0.000000      1.000000      0.000000      1.000000      0.340000   \n",
      "50%        0.000000      3.000000      1.000000      1.000000      0.500000   \n",
      "75%        0.000000      5.000000      1.000000      2.000000      0.660000   \n",
      "max        1.000000      6.000000      1.000000      4.000000      1.000000   \n",
      "std        0.167165      2.005771      0.465431      0.639357      0.192556   \n",
      "\n",
      "              atemp           hum     windspeed        casual    registered  \\\n",
      "count  17379.000000  17379.000000  17379.000000  17379.000000  17379.000000   \n",
      "mean       0.475775      0.627229      0.190098     35.676218    153.786869   \n",
      "min        0.000000      0.000000      0.000000      0.000000      0.000000   \n",
      "25%        0.333300      0.480000      0.104500      4.000000     34.000000   \n",
      "50%        0.484800      0.630000      0.194000     17.000000    115.000000   \n",
      "75%        0.621200      0.780000      0.253700     48.000000    220.000000   \n",
      "max        1.000000      1.000000      0.850700    367.000000    886.000000   \n",
      "std        0.171850      0.192930      0.122340     49.305030    151.357286   \n",
      "\n",
      "       cnt_rental_bike                       datetime  \n",
      "count     17379.000000                          17379  \n",
      "mean        189.463088  2012-01-02 15:41:22.858622464  \n",
      "min           1.000000            2011-01-01 00:00:00  \n",
      "25%          40.000000            2011-07-04 22:30:00  \n",
      "50%         142.000000            2012-01-02 21:00:00  \n",
      "75%         281.000000            2012-07-02 06:30:00  \n",
      "max         977.000000            2012-12-31 23:00:00  \n",
      "std         181.387599                            NaN  \n"
     ]
    }
   ],
   "source": [
    "print(df_bike.describe())"
   ]
  },
  {
   "cell_type": "code",
   "execution_count": 17,
   "id": "5bfdddb6",
   "metadata": {},
   "outputs": [
    {
     "name": "stdout",
     "output_type": "stream",
     "text": [
      "total rentals: 3292679\n",
      "avg rentals: 189.46308763450142\n",
      "min rentals: 1\n",
      "max rentals: 977\n"
     ]
    }
   ],
   "source": [
    "print('total rentals:', df_bike['cnt_rental_bike'].sum())\n",
    "print('avg rentals:', df_bike['cnt_rental_bike'].mean())\n",
    "print('min rentals:', df_bike['cnt_rental_bike'].min())\n",
    "print('max rentals:', df_bike['cnt_rental_bike'].max())"
   ]
  },
  {
   "cell_type": "code",
   "execution_count": 20,
   "id": "1d0f5146",
   "metadata": {},
   "outputs": [
    {
     "data": {
      "image/png": "[encoded data removed]",
      "text/plain": [
       "<Figure size 640x480 with 1 Axes>"
      ]
     },
     "metadata": {},
     "output_type": "display_data"
    }
   ],
   "source": [
    "import seaborn as sns\n",
    "\n",
    "sns.boxplot(x='season', y='cnt_rental_bike', data=df_bike)\n",
    "plt.title('rentals by season')\n",
    "plt.show()"
   ]
  },
  {
   "cell_type": "code",
   "execution_count": 22,
   "id": "c6ac529f",
   "metadata": {},
   "outputs": [
    {
     "data": {
      "image/png": "[encoded data removed]",
      "text/plain": [
       "<Figure size 640x480 with 1 Axes>"
      ]
     },
     "metadata": {},
     "output_type": "display_data"
    }
   ],
   "source": [
    "df_bike[['casual', 'registered']].mean().plot(kind='bar')\n",
    "plt.title('average rentals: casual vs registered')\n",
    "plt.show()"
   ]
  },
  {
   "cell_type": "code",
   "execution_count": 23,
   "id": "982fddd1",
   "metadata": {},
   "outputs": [
    {
     "name": "stdout",
     "output_type": "stream",
     "text": [
      "['clear' 'cloudy' 'light rain' 'heavy rain']\n",
      "object\n"
     ]
    }
   ],
   "source": [
    "df_bike['weathersit'] = df_bike['weathersit'].map({\n",
    "    1: 'clear',\n",
    "    2: 'cloudy',\n",
    "    3: 'light rain',\n",
    "    4: 'heavy rain'\n",
    "})\n",
    "\n",
    "print(df_bike['weathersit'].unique())\n",
    "print(df_bike['weathersit'].dtype)"
   ]
  },
  {
   "cell_type": "code",
   "execution_count": 26,
   "id": "a1159c7b",
   "metadata": {},
   "outputs": [
    {
     "data": {
      "image/png": "[encoded data removed]",
      "text/plain": [
       "<Figure size 640x480 with 1 Axes>"
      ]
     },
     "metadata": {},
     "output_type": "display_data"
    }
   ],
   "source": [
    "sns.boxplot(x='weathersit', y='cnt_rental_bike', data=df_bike)\n",
    "plt.title('rentals by weather situation')\n",
    "plt.show()"
   ]
  },
  {
   "cell_type": "code",
   "execution_count": 27,
   "id": "cbdbe247",
   "metadata": {},
   "outputs": [
    {
     "name": "stdout",
     "output_type": "stream",
     "text": [
      "[[0. 0. 0.]\n",
      " [0. 0. 0.]\n",
      " [0. 0. 0.]\n",
      " [0. 0. 0.]\n",
      " [0. 0. 0.]]\n"
     ]
    }
   ],
   "source": [
    "encoder = OneHotEncoder(drop='first')\n",
    "encoded = encoder.fit_transform(df_bike[['weathersit']]).toarray()\n",
    "print(encoded[:5])"
   ]
  },
  {
   "cell_type": "code",
   "execution_count": 29,
   "id": "a394735e",
   "metadata": {},
   "outputs": [
    {
     "name": "stdout",
     "output_type": "stream",
     "text": [
      "   instant      dteday  season  yr  mnth  hr  holiday  weekday  workingday  \\\n",
      "0        1  2011-01-01       1   0     1   0        0        6           0   \n",
      "1        2  2011-01-01       1   0     1   1        0        6           0   \n",
      "2        3  2011-01-01       1   0     1   2        0        6           0   \n",
      "3        4  2011-01-01       1   0     1   3        0        6           0   \n",
      "4        5  2011-01-01       1   0     1   4        0        6           0   \n",
      "\n",
      "  weathersit  ...   atemp   hum  windspeed  casual  registered  \\\n",
      "0      clear  ...  0.2879  0.81        0.0       3          13   \n",
      "1      clear  ...  0.2727  0.80        0.0       8          32   \n",
      "2      clear  ...  0.2727  0.80        0.0       5          27   \n",
      "3      clear  ...  0.2879  0.75        0.0       3          10   \n",
      "4      clear  ...  0.2879  0.75        0.0       0           1   \n",
      "\n",
      "   cnt_rental_bike            datetime weathersit_cloudy  \\\n",
      "0               16 2011-01-01 00:00:00               0.0   \n",
      "1               40 2011-01-01 01:00:00               0.0   \n",
      "2               32 2011-01-01 02:00:00               0.0   \n",
      "3               13 2011-01-01 03:00:00               0.0   \n",
      "4                1 2011-01-01 04:00:00               0.0   \n",
      "\n",
      "   weathersit_heavy rain  weathersit_light rain  \n",
      "0                    0.0                    0.0  \n",
      "1                    0.0                    0.0  \n",
      "2                    0.0                    0.0  \n",
      "3                    0.0                    0.0  \n",
      "4                    0.0                    0.0  \n",
      "\n",
      "[5 rows x 21 columns]\n"
     ]
    }
   ],
   "source": [
    "from sklearn.preprocessing import OneHotEncoder\n",
    "\n",
    "encoder = OneHotEncoder(drop='first', sparse_output=False)  \n",
    "encoded = encoder.fit_transform(df_bike[['weathersit']])\n",
    "\n",
    "encoded_df = pd.DataFrame(encoded, columns=encoder.get_feature_names_out(['weathersit']))\n",
    "df_bike = pd.concat([df_bike.reset_index(drop=True), encoded_df.reset_index(drop=True)], axis=1)\n",
    "\n",
    "print(df_bike.head())\n"
   ]
  },
  {
   "cell_type": "code",
   "execution_count": 31,
   "id": "676eb74a",
   "metadata": {},
   "outputs": [
    {
     "name": "stdout",
     "output_type": "stream",
     "text": [
      "   season  season_encoded\n",
      "0       1             0.0\n",
      "1       1             0.0\n",
      "2       1             0.0\n",
      "3       1             0.0\n",
      "4       1             0.0\n"
     ]
    }
   ],
   "source": [
    "from sklearn.preprocessing import OrdinalEncoder\n",
    "\n",
    "\n",
    "ordinal_encoder = OrdinalEncoder()\n",
    "df_bike['season_encoded'] = ordinal_encoder.fit_transform(df_bike[['season']])\n",
    "print(df_bike[['season', 'season_encoded']].head())"
   ]
  },
  {
   "cell_type": "code",
   "execution_count": null,
   "id": "20f4a474",
   "metadata": {},
   "outputs": [
    {
     "name": "stdout",
     "output_type": "stream",
     "text": [
      "MinMaxScaler()\n"
     ]
    }
   ],
   "source": [
    "from sklearn.preprocessing import MinMaxScaler, StandardScaler\n",
    "\n",
    "scaler_minmax = MinMaxScaler()\n",
    "scaler_std = StandardScaler()"
   ]
  },
  {
   "cell_type": "code",
   "execution_count": 35,
   "id": "69eb5a5f",
   "metadata": {},
   "outputs": [
    {
     "name": "stdout",
     "output_type": "stream",
     "text": [
      "   temp  temp_norm  temp_std\n",
      "0  0.24   0.224490 -1.334648\n",
      "1  0.22   0.204082 -1.438516\n",
      "2  0.22   0.204082 -1.438516\n",
      "3  0.24   0.224490 -1.334648\n",
      "4  0.24   0.224490 -1.334648\n"
     ]
    }
   ],
   "source": [
    "df_bike['temp_norm'] = scaler_minmax.fit_transform(df_bike[['temp']])\n",
    "df_bike['temp_std'] = scaler_std.fit_transform(df_bike[['temp']])\n",
    "print(df_bike[['temp', 'temp_norm', 'temp_std']].head())"
   ]
  },
  {
   "cell_type": "markdown",
   "id": "b71f935b",
   "metadata": {},
   "source": [
    "1) (B) Nominal\n",
    "\n",
    "2) nominal - categories withot order (colors for example)\n",
    "ordinal - categories with natural order(education levek for example)\n",
    "\n",
    "3) (A) True\n",
    "\n",
    "4) The sum of the values ​​in these n columns = 1 for each row so the total sum is number of rows\n",
    "\n",
    "5) To avoid multicollinearity\n",
    "Statistical term is linear dependence of features\n",
    "\n",
    "6) I think Ordinal Encoding cause these are ordered categories\n",
    "\n",
    "7) For example if theres a 'country\" feature with 200 categories so, you will get 200 new columns\n",
    "\n",
    "8) (B) Standardization\n",
    "\n",
    "9) (B) False\n",
    "\n",
    "10) min=10, max=53, range=43\n",
    "10 - (10-10)/43 = 0.00\n",
    "22 - (22-10)/43 = 0.28\n",
    "27 - (27-10)/43 = 0.40\n",
    "53 - (53-10)/43 = 1.00\n",
    "\n",
    "11) (75-50)/10 = 2.5\n",
    "\n",
    "12) This is especially important for scale-sensitive models for example KNN, SVM, linear regression"
   ]
  }
 ],
 "metadata": {
  "kernelspec": {
   "display_name": "Python 3",
   "language": "python",
   "name": "python3"
  },
  "language_info": {
   "codemirror_mode": {
    "name": "ipython",
    "version": 3
   },
   "file_extension": ".py",
   "mimetype": "text/x-python",
   "name": "python",
   "nbconvert_exporter": "python",
   "pygments_lexer": "ipython3",
   "version": "3.13.1"
  }
 },
 "nbformat": 4,
 "nbformat_minor": 5
}
