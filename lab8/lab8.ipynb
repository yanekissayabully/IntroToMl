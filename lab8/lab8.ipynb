{
 "cells": [
  {
   "cell_type": "code",
   "execution_count": 2,
   "id": "ad899396",
   "metadata": {},
   "outputs": [],
   "source": [
    "import numpy as np\n",
    "import pandas as pd\n",
    "import statsmodels.api as sm\n",
    "import matplotlib.pyplot as plt\n",
    "from sklearn.utils import resample\n",
    "\n",
    "np.random.seed(1)\n",
    "n = 100\n",
    "x = np.random.normal(0,1,n)\n",
    "eps = np.random.normal(0,0.5,n)\n",
    "y = -1 + 0.5*x + eps\n",
    "df13 = pd.DataFrame({\"x\": x, \"y\": y})"
   ]
  },
  {
   "cell_type": "code",
   "execution_count": 3,
   "id": "28924bbc",
   "metadata": {},
   "outputs": [
    {
     "data": {
      "text/html": [
       "<div>\n",
       "<style scoped>\n",
       "    .dataframe tbody tr th:only-of-type {\n",
       "        vertical-align: middle;\n",
       "    }\n",
       "\n",
       "    .dataframe tbody tr th {\n",
       "        vertical-align: top;\n",
       "    }\n",
       "\n",
       "    .dataframe thead th {\n",
       "        text-align: right;\n",
       "    }\n",
       "</style>\n",
       "<table border=\"1\" class=\"dataframe\">\n",
       "  <thead>\n",
       "    <tr style=\"text-align: right;\">\n",
       "      <th></th>\n",
       "      <th>x</th>\n",
       "      <th>y</th>\n",
       "    </tr>\n",
       "  </thead>\n",
       "  <tbody>\n",
       "    <tr>\n",
       "      <th>0</th>\n",
       "      <td>1.624345</td>\n",
       "      <td>-0.411392</td>\n",
       "    </tr>\n",
       "    <tr>\n",
       "      <th>1</th>\n",
       "      <td>-0.611756</td>\n",
       "      <td>-0.693624</td>\n",
       "    </tr>\n",
       "    <tr>\n",
       "      <th>2</th>\n",
       "      <td>-0.528172</td>\n",
       "      <td>-1.062340</td>\n",
       "    </tr>\n",
       "    <tr>\n",
       "      <th>3</th>\n",
       "      <td>-1.072969</td>\n",
       "      <td>-1.239695</td>\n",
       "    </tr>\n",
       "    <tr>\n",
       "      <th>4</th>\n",
       "      <td>0.865408</td>\n",
       "      <td>-1.114752</td>\n",
       "    </tr>\n",
       "  </tbody>\n",
       "</table>\n",
       "</div>"
      ],
      "text/plain": [
       "          x         y\n",
       "0  1.624345 -0.411392\n",
       "1 -0.611756 -0.693624\n",
       "2 -0.528172 -1.062340\n",
       "3 -1.072969 -1.239695\n",
       "4  0.865408 -1.114752"
      ]
     },
     "execution_count": 3,
     "metadata": {},
     "output_type": "execute_result"
    }
   ],
   "source": [
    "len(df13)\n",
    "df13.head()"
   ]
  },
  {
   "cell_type": "code",
   "execution_count": 7,
   "id": "e8b1c1c0",
   "metadata": {},
   "outputs": [
    {
     "data": {
      "image/png": "[encoded data removed]",
      "text/plain": [
       "<Figure size 640x480 with 1 Axes>"
      ]
     },
     "metadata": {},
     "output_type": "display_data"
    }
   ],
   "source": [
    "xs = np.linspace(df13[\"x\"].min(), df13[\"x\"].max(), 100)\n",
    "\n",
    "Xc = sm.add_constant(df13[\"x\"])\n",
    "model = sm.OLS(df13[\"y\"], Xc).fit()\n",
    "\n",
    "plt.scatter(df13[\"x\"], df13[\"y\"], label=\"data\")\n",
    "plt.plot(xs, model.params[\"const\"] + model.params[\"x\"] * xs, color=\"red\", label=\"OLS line\")\n",
    "plt.xlabel(\"x\")\n",
    "plt.ylabel(\"y\")\n",
    "plt.title(\"Y X depend with linear regression\")\n",
    "plt.legend()\n",
    "plt.show()"
   ]
  },
  {
   "cell_type": "code",
   "execution_count": 8,
   "id": "4e5378e0",
   "metadata": {},
   "outputs": [
    {
     "name": "stdout",
     "output_type": "stream",
     "text": [
      "                            OLS Regression Results                            \n",
      "==============================================================================\n",
      "Dep. Variable:                      y   R-squared:                       0.522\n",
      "Model:                            OLS   Adj. R-squared:                  0.517\n",
      "Method:                 Least Squares   F-statistic:                     107.0\n",
      "Date:                Mon, 27 Oct 2025   Prob (F-statistic):           2.20e-17\n",
      "Time:                        11:54:30   Log-Likelihood:                -65.124\n",
      "No. Observations:                 100   AIC:                             134.2\n",
      "Df Residuals:                      98   BIC:                             139.5\n",
      "Df Model:                           1                                         \n",
      "Covariance Type:            nonrobust                                         \n",
      "==============================================================================\n",
      "                 coef    std err          t      P>|t|      [0.025      0.975]\n",
      "------------------------------------------------------------------------------\n",
      "const         -0.9265      0.047    -19.717      0.000      -1.020      -0.833\n",
      "x              0.5477      0.053     10.342      0.000       0.443       0.653\n",
      "==============================================================================\n",
      "Omnibus:                        0.898   Durbin-Watson:                   2.157\n",
      "Prob(Omnibus):                  0.638   Jarque-Bera (JB):                0.561\n",
      "Skew:                          -0.172   Prob(JB):                        0.755\n",
      "Kurtosis:                       3.127   Cond. No.                         1.15\n",
      "==============================================================================\n",
      "\n",
      "Notes:\n",
      "[1] Standard Errors assume that the covariance matrix of the errors is correctly specified.\n"
     ]
    }
   ],
   "source": [
    "Xc = sm.add_constant(df13[\"x\"])\n",
    "model = sm.OLS(df13[\"y\"], Xc).fit()\n",
    "print(model.summary())"
   ]
  },
  {
   "cell_type": "code",
   "execution_count": 9,
   "id": "fa894e91",
   "metadata": {},
   "outputs": [
    {
     "name": "stdout",
     "output_type": "stream",
     "text": [
      "                                 OLS Regression Results                                \n",
      "=======================================================================================\n",
      "Dep. Variable:                      y   R-squared (uncentered):                   0.143\n",
      "Model:                            OLS   Adj. R-squared (uncentered):              0.134\n",
      "Method:                 Least Squares   F-statistic:                              16.53\n",
      "Date:                Mon, 27 Oct 2025   Prob (F-statistic):                    9.60e-05\n",
      "Time:                        11:57:19   Log-Likelihood:                         -145.27\n",
      "No. Observations:                 100   AIC:                                      292.5\n",
      "Df Residuals:                      99   BIC:                                      295.1\n",
      "Df Model:                           1                                                  \n",
      "Covariance Type:            nonrobust                                                  \n",
      "==============================================================================\n",
      "                 coef    std err          t      P>|t|      [0.025      0.975]\n",
      "------------------------------------------------------------------------------\n",
      "x              0.4764      0.117      4.066      0.000       0.244       0.709\n",
      "==============================================================================\n",
      "Omnibus:                        1.078   Durbin-Watson:                   0.438\n",
      "Prob(Omnibus):                  0.583   Jarque-Bera (JB):                0.640\n",
      "Skew:                          -0.163   Prob(JB):                        0.726\n",
      "Kurtosis:                       3.218   Cond. No.                         1.00\n",
      "==============================================================================\n",
      "\n",
      "Notes:\n",
      "[1] R² is computed without centering (uncentered) since the model does not contain a constant.\n",
      "[2] Standard Errors assume that the covariance matrix of the errors is correctly specified.\n"
     ]
    }
   ],
   "source": [
    "model_no_intercept = sm.OLS(df13[\"y\"], df13[[\"x\"]]).fit()\n",
    "print(model_no_intercept.summary())"
   ]
  },
  {
   "cell_type": "markdown",
   "id": "5dd29ef3",
   "metadata": {},
   "source": [
    "The constant model produces a slope estimate of 0.5477 and an intercept of -0.9265.\n",
    "The model without interception gives a slope of 0.4764.\n",
    "If there is a non-zero true intercept, you must include a constant otherwise the slope will shift."
   ]
  },
  {
   "cell_type": "code",
   "execution_count": 10,
   "id": "cba2d037",
   "metadata": {},
   "outputs": [
    {
     "data": {
      "text/plain": [
       "[0.44261337684768415, 0.6528137568034872]"
      ]
     },
     "execution_count": 10,
     "metadata": {},
     "output_type": "execute_result"
    }
   ],
   "source": [
    "model.conf_int().loc[\"x\"].tolist()"
   ]
  },
  {
   "cell_type": "code",
   "execution_count": 11,
   "id": "1c2d9a33",
   "metadata": {},
   "outputs": [
    {
     "name": "stdout",
     "output_type": "stream",
     "text": [
      "       mean   mean_se  mean_ci_lower  mean_ci_upper  obs_ci_lower  \\\n",
      "0 -0.926493  0.046989      -1.019741      -0.833246     -1.861456   \n",
      "1 -0.378780  0.068359      -0.514437      -0.243123     -1.318919   \n",
      "\n",
      "   obs_ci_upper  \n",
      "0      0.008469  \n",
      "1      0.561360  \n"
     ]
    }
   ],
   "source": [
    "newX = sm.add_constant(pd.DataFrame({\"x\":[0,1]}))\n",
    "preds = model.get_prediction(newX).summary_frame(alpha = 0.05)\n",
    "print(preds)"
   ]
  },
  {
   "cell_type": "code",
   "execution_count": 12,
   "id": "88e21ed6",
   "metadata": {},
   "outputs": [
    {
     "name": "stdout",
     "output_type": "stream",
     "text": [
      "                            OLS Regression Results                            \n",
      "==============================================================================\n",
      "Dep. Variable:                      y   R-squared:                       0.522\n",
      "Model:                            OLS   Adj. R-squared:                  0.512\n",
      "Method:                 Least Squares   F-statistic:                     52.96\n",
      "Date:                Mon, 27 Oct 2025   Prob (F-statistic):           2.83e-16\n",
      "Time:                        12:02:57   Log-Likelihood:                -65.107\n",
      "No. Observations:                 100   AIC:                             136.2\n",
      "Df Residuals:                      97   BIC:                             144.0\n",
      "Df Model:                           2                                         \n",
      "Covariance Type:            nonrobust                                         \n",
      "==============================================================================\n",
      "                 coef    std err          t      P>|t|      [0.025      0.975]\n",
      "------------------------------------------------------------------------------\n",
      "const         -0.9325      0.058    -16.158      0.000      -1.047      -0.818\n",
      "x              0.5468      0.053     10.229      0.000       0.441       0.653\n",
      "x2             0.0077      0.043      0.181      0.856      -0.077       0.092\n",
      "==============================================================================\n",
      "Omnibus:                        0.893   Durbin-Watson:                   2.152\n",
      "Prob(Omnibus):                  0.640   Jarque-Bera (JB):                0.552\n",
      "Skew:                          -0.170   Prob(JB):                        0.759\n",
      "Kurtosis:                       3.132   Cond. No.                         2.10\n",
      "==============================================================================\n",
      "\n",
      "Notes:\n",
      "[1] Standard Errors assume that the covariance matrix of the errors is correctly specified.\n"
     ]
    }
   ],
   "source": [
    "Xquad = sm.add_constant(pd.DataFrame({\"x\":df13[\"x\"], \"x2\":df13[\"x\"]**2}))\n",
    "model_quad = sm.OLS(df13[\"y\"], Xquad).fit()\n",
    "print(model_quad.summary())"
   ]
  },
  {
   "cell_type": "markdown",
   "id": "eb3e6c5d",
   "metadata": {},
   "source": [
    "p-value for x^2 ≈ 0.8565 is insignificant. That is, in the generated model the quadratic term is not needed - the model is linear."
   ]
  },
  {
   "cell_type": "markdown",
   "id": "e1cccfa3",
   "metadata": {},
   "source": [
    "bootstrap CI is very similar to analytical CI"
   ]
  },
  {
   "cell_type": "markdown",
   "id": "4f057bbd",
   "metadata": {},
   "source": [
    "---------- 14"
   ]
  },
  {
   "cell_type": "code",
   "execution_count": null,
   "id": "60a4ab8e",
   "metadata": {},
   "outputs": [],
   "source": [
    "np.random.seed(1)\n",
    "n = 100\n",
    "x1 = np.random.rand(n)                   \n",
    "x2 = 0.5*x1 + np.random.normal(0, 0.1, n)    \n",
    "y = 2 + 2*x1 + 0.3*x2 + np.random.normal(0,1,n)\n",
    "df14 = pd.DataFrame({\"x1\":x1, \"x2\":x2, \"y\":y})\n",
    "\n",
    "# model Y = 2 + 2X1 + 0.3X2 + e\n"
   ]
  },
  {
   "cell_type": "code",
   "execution_count": null,
   "id": "4d0f4271",
   "metadata": {},
   "outputs": [
    {
     "data": {
      "text/plain": [
       "np.float64(0.8390596222844917)"
      ]
     },
     "execution_count": 14,
     "metadata": {},
     "output_type": "execute_result"
    }
   ],
   "source": [
    "np.corrcoef(df14[\"x1\"], df14[\"x2\"])[0,1]\n",
    "\n",
    "#high correlation np.float64(0.8390596222844917)"
   ]
  },
  {
   "cell_type": "code",
   "execution_count": 15,
   "id": "db345cf4",
   "metadata": {},
   "outputs": [
    {
     "name": "stdout",
     "output_type": "stream",
     "text": [
      "                            OLS Regression Results                            \n",
      "==============================================================================\n",
      "Dep. Variable:                      y   R-squared:                       0.261\n",
      "Model:                            OLS   Adj. R-squared:                  0.245\n",
      "Method:                 Least Squares   F-statistic:                     17.09\n",
      "Date:                Mon, 27 Oct 2025   Prob (F-statistic):           4.40e-07\n",
      "Time:                        12:08:20   Log-Likelihood:                -142.34\n",
      "No. Observations:                 100   AIC:                             290.7\n",
      "Df Residuals:                      97   BIC:                             298.5\n",
      "Df Model:                           2                                         \n",
      "Covariance Type:            nonrobust                                         \n",
      "==============================================================================\n",
      "                 coef    std err          t      P>|t|      [0.025      0.975]\n",
      "------------------------------------------------------------------------------\n",
      "const          2.1893      0.199     11.021      0.000       1.795       2.584\n",
      "x1             0.7046      0.637      1.107      0.271      -0.559       1.968\n",
      "x2             2.5024      1.140      2.194      0.031       0.239       4.766\n",
      "==============================================================================\n",
      "Omnibus:                        0.607   Durbin-Watson:                   2.111\n",
      "Prob(Omnibus):                  0.738   Jarque-Bera (JB):                0.577\n",
      "Skew:                          -0.179   Prob(JB):                        0.749\n",
      "Kurtosis:                       2.900   Cond. No.                         14.3\n",
      "==============================================================================\n",
      "\n",
      "Notes:\n",
      "[1] Standard Errors assume that the covariance matrix of the errors is correctly specified.\n"
     ]
    }
   ],
   "source": [
    "X = sm.add_constant(df14[[\"x1\",\"x2\"]])\n",
    "model14 = sm.OLS(df14[\"y\"], X).fit()\n",
    "print(model14.summary())"
   ]
  },
  {
   "cell_type": "markdown",
   "id": "5a5383fe",
   "metadata": {},
   "source": [
    "In simple regressions both predictors may be significant, but in joint regression the standard errors increase due to collinearity"
   ]
  },
  {
   "cell_type": "markdown",
   "id": "26a3d810",
   "metadata": {},
   "source": [
    "Collinearity increases the standard errors of the estimates, so the estimate for a particular coefficient may become statistically insignificant even though the model predicts well overall.\n",
    "\n",
    "For xxample: true coefficients were 2 and 0.3, but in the joint regression x1 turned out to be insignificant, x2 was significant - explanation: x1 and x2 are strongly related and it is difficult to separate the contribution of each."
   ]
  },
  {
   "cell_type": "code",
   "execution_count": 18,
   "id": "81e240d3",
   "metadata": {},
   "outputs": [],
   "source": [
    "df14c = df14.copy()\n",
    "df14c[\"x1c\"] = df14c[\"x1\"] - df14c[\"x1\"].mean()\n",
    "df14c[\"x2c\"] = df14c[\"x2\"] - df14c[\"x2\"].mean()\n",
    "\n",
    "#centering often reduces problems with multicollinearity between polynomial/inclusion interactions depending on the situation."
   ]
  },
  {
   "cell_type": "markdown",
   "id": "fffdeab8",
   "metadata": {},
   "source": [
    "------- 15"
   ]
  },
  {
   "cell_type": "code",
   "execution_count": 19,
   "id": "a9c850c1",
   "metadata": {},
   "outputs": [],
   "source": [
    "boston = sm.datasets.get_rdataset(\"Boston\", \"MASS\").data\n",
    "boston.columns = [c.upper() for c in boston.columns]\n",
    "df = boston.copy()\n",
    "y = df[\"CRIM\"]\n",
    "predictors = [c for c in df.columns if c != \"CRIM\"]"
   ]
  },
  {
   "cell_type": "code",
   "execution_count": null,
   "id": "25543f0a",
   "metadata": {},
   "outputs": [
    {
     "name": "stdout",
     "output_type": "stream",
     "text": [
      "   predictor       coef       p_value        R2\n",
      "7        RAD   0.617911  2.693844e-56  0.391257\n",
      "8        TAX   0.029742  2.357127e-47  0.339614\n",
      "11     LSTAT   0.548805  2.654277e-27  0.207591\n",
      "3        NOX  31.248531  3.751739e-23  0.177217\n",
      "1      INDUS   0.509776  1.450349e-21  0.165310\n",
      "12      MEDV  -0.363160  1.173987e-19  0.150780\n",
      "10     BLACK  -0.036280  2.487274e-19  0.148274\n",
      "6        DIS  -1.550902  8.519949e-19  0.144149\n",
      "5        AGE   0.107786  2.854869e-16  0.124421\n",
      "9    PTRATIO   1.151983  2.942922e-11  0.084068\n"
     ]
    }
   ],
   "source": [
    "results = []\n",
    "for p in predictors:\n",
    "    X = sm.add_constant(df[[p]])\n",
    "    model = sm.OLS(y, X).fit()\n",
    "    results.append({\n",
    "        \"predictor\": p,\n",
    "        \"coef\": model.params[p],\n",
    "        \"p_value\": model.pvalues[p],\n",
    "        \"R2\": model.rsquared\n",
    "    })\n",
    "\n",
    "simple_df = pd.DataFrame(results).sort_values(\"p_value\")\n",
    "print(simple_df.head(10))"
   ]
  },
  {
   "cell_type": "markdown",
   "id": "b4dcb53e",
   "metadata": {},
   "source": [
    "The higher the RAD or TAX - the higher the crime, more DIS - less crime"
   ]
  },
  {
   "cell_type": "code",
   "execution_count": 21,
   "id": "834c262f",
   "metadata": {},
   "outputs": [
    {
     "name": "stdout",
     "output_type": "stream",
     "text": [
      "                            OLS Regression Results                            \n",
      "==============================================================================\n",
      "Dep. Variable:                   CRIM   R-squared:                       0.454\n",
      "Model:                            OLS   Adj. R-squared:                  0.440\n",
      "Method:                 Least Squares   F-statistic:                     31.47\n",
      "Date:                Mon, 27 Oct 2025   Prob (F-statistic):           1.57e-56\n",
      "Time:                        12:17:15   Log-Likelihood:                -1653.3\n",
      "No. Observations:                 506   AIC:                             3335.\n",
      "Df Residuals:                     492   BIC:                             3394.\n",
      "Df Model:                          13                                         \n",
      "Covariance Type:            nonrobust                                         \n",
      "==============================================================================\n",
      "                 coef    std err          t      P>|t|      [0.025      0.975]\n",
      "------------------------------------------------------------------------------\n",
      "const         17.0332      7.235      2.354      0.019       2.818      31.248\n",
      "ZN             0.0449      0.019      2.394      0.017       0.008       0.082\n",
      "INDUS         -0.0639      0.083     -0.766      0.444      -0.228       0.100\n",
      "CHAS          -0.7491      1.180     -0.635      0.526      -3.068       1.570\n",
      "NOX          -10.3135      5.276     -1.955      0.051     -20.679       0.052\n",
      "RM             0.4301      0.613      0.702      0.483      -0.774       1.634\n",
      "AGE            0.0015      0.018      0.081      0.935      -0.034       0.037\n",
      "DIS           -0.9872      0.282     -3.503      0.001      -1.541      -0.433\n",
      "RAD            0.5882      0.088      6.680      0.000       0.415       0.761\n",
      "TAX           -0.0038      0.005     -0.733      0.464      -0.014       0.006\n",
      "PTRATIO       -0.2711      0.186     -1.454      0.147      -0.637       0.095\n",
      "BLACK         -0.0075      0.004     -2.052      0.041      -0.015      -0.000\n",
      "LSTAT          0.1262      0.076      1.667      0.096      -0.023       0.275\n",
      "MEDV          -0.1989      0.061     -3.287      0.001      -0.318      -0.080\n",
      "==============================================================================\n",
      "Omnibus:                      666.613   Durbin-Watson:                   1.519\n",
      "Prob(Omnibus):                  0.000   Jarque-Bera (JB):            84887.625\n",
      "Skew:                           6.617   Prob(JB):                         0.00\n",
      "Kurtosis:                      65.058   Cond. No.                     1.58e+04\n",
      "==============================================================================\n",
      "\n",
      "Notes:\n",
      "[1] Standard Errors assume that the covariance matrix of the errors is correctly specified.\n",
      "[2] The condition number is large, 1.58e+04. This might indicate that there are\n",
      "strong multicollinearity or other numerical problems.\n"
     ]
    }
   ],
   "source": [
    "X_all = sm.add_constant(df[predictors])\n",
    "model_all = sm.OLS(y, X_all).fit()\n",
    "print(model_all.summary())"
   ]
  },
  {
   "cell_type": "markdown",
   "id": "e188e98e",
   "metadata": {},
   "source": [
    "The model explains 45% of the variation in CRIM"
   ]
  },
  {
   "cell_type": "code",
   "execution_count": 22,
   "id": "5b22e13d",
   "metadata": {},
   "outputs": [
    {
     "name": "stdout",
     "output_type": "stream",
     "text": [
      "         simple_coef  multi_coef\n",
      "RAD         0.617911    0.588209\n",
      "TAX         0.029742   -0.003780\n",
      "LSTAT       0.548805    0.126211\n",
      "NOX        31.248531  -10.313535\n",
      "INDUS       0.509776   -0.063855\n",
      "MEDV       -0.363160   -0.198887\n",
      "BLACK      -0.036280   -0.007538\n",
      "DIS        -1.550902   -0.987176\n",
      "AGE         0.107786    0.001452\n",
      "PTRATIO     1.151983   -0.271081\n",
      "RM         -2.684051    0.430131\n",
      "ZN         -0.073935    0.044855\n",
      "CHAS       -1.892777   -0.749134\n"
     ]
    }
   ],
   "source": [
    "simple = pd.Series(\n",
    "    {r[\"predictor\"]: r[\"coef\"] for _, r in simple_df.iterrows()},\n",
    "    name=\"simple_coef\"\n",
    ")\n",
    "multi = model_all.params[predictors].rename(\"multi_coef\")\n",
    "compare = pd.concat([simple, multi], axis=1)\n",
    "print(compare)"
   ]
  },
  {
   "cell_type": "markdown",
   "id": "57f2ae88",
   "metadata": {},
   "source": [
    "the signs and magnitudes of the coefficients often chang - multicollinearity effect, in simple regressions, variables partially “steal” each other’s explanation"
   ]
  },
  {
   "cell_type": "code",
   "execution_count": 24,
   "id": "c22d2062",
   "metadata": {},
   "outputs": [
    {
     "name": "stdout",
     "output_type": "stream",
     "text": [
      "INDUS: evidence of non-linear relation\n",
      "NOX: evidence of non-linear relation\n",
      "AGE: evidence of non-linear relation\n",
      "DIS: evidence of non-linear relation\n",
      "PTRATIO: evidence of non-linear relation\n",
      "MEDV: evidence of non-linear relation\n"
     ]
    }
   ],
   "source": [
    "for p in predictors:\n",
    "    X_poly = sm.add_constant(\n",
    "        pd.DataFrame({p: df[p], f\"{p}_2\": df[p]**2, f\"{p}_3\": df[p]**3})\n",
    "    )\n",
    "    model_poly = sm.OLS(y, X_poly).fit()\n",
    "    if model_poly.pvalues[f\"{p}_2\"] < 0.05 or model_poly.pvalues[f\"{p}_3\"] < 0.05:\n",
    "        print(f\"{p}: evidence of non-linear relation\")\n",
    "\n",
    "#if the p-value for X2 or X3 < 0.05, then the relationship is nonlinear"
   ]
  },
  {
   "cell_type": "code",
   "execution_count": 26,
   "id": "011c5b57",
   "metadata": {},
   "outputs": [
    {
     "data": {
      "image/png": "[encoded data removed]",
      "text/plain": [
       "<Figure size 600x400 with 1 Axes>"
      ]
     },
     "metadata": {},
     "output_type": "display_data"
    }
   ],
   "source": [
    "p = \"LSTAT\"\n",
    "\n",
    "X_poly = sm.add_constant(\n",
    "    pd.DataFrame({\n",
    "        p: df[p],\n",
    "        f\"{p}_2\": df[p]**2,\n",
    "        f\"{p}_3\": df[p]**3\n",
    "    })\n",
    ")\n",
    "model_poly = sm.OLS(y, X_poly).fit()\n",
    "\n",
    "x_vals = np.linspace(df[p].min(), df[p].max(), 100)\n",
    "y_pred = (\n",
    "    model_poly.params[\"const\"]\n",
    "    + model_poly.params[p] * x_vals\n",
    "    + model_poly.params[f\"{p}_2\"] * x_vals**2\n",
    "    + model_poly.params[f\"{p}_3\"] * x_vals**3\n",
    ")\n",
    "\n",
    "plt.figure(figsize=(6,4))\n",
    "plt.scatter(df[p], y, alpha=0.6, label=\"data\")\n",
    "plt.plot(x_vals, y_pred, color=\"red\", label=\"cubic model\")\n",
    "plt.xlabel(p)\n",
    "plt.ylabel(\"CRIM\")\n",
    "plt.title(f\"CRIM vs {p} (cubic approximation)\")\n",
    "plt.legend()\n",
    "plt.show()"
   ]
  }
 ],
 "metadata": {
  "kernelspec": {
   "display_name": "Python 3",
   "language": "python",
   "name": "python3"
  },
  "language_info": {
   "codemirror_mode": {
    "name": "ipython",
    "version": 3
   },
   "file_extension": ".py",
   "mimetype": "text/x-python",
   "name": "python",
   "nbconvert_exporter": "python",
   "pygments_lexer": "ipython3",
   "version": "3.13.1"
  }
 },
 "nbformat": 4,
 "nbformat_minor": 5
}
